{
 "cells": [
  {
   "cell_type": "code",
   "execution_count": 1,
   "id": "ce4f3ee6-b14c-4082-a482-e40d5fbde80a",
   "metadata": {},
   "outputs": [],
   "source": [
    "import tkinter as tk\n",
    "from tkinter import messagebox"
   ]
  },
  {
   "cell_type": "code",
   "execution_count": 3,
   "id": "3d40c7a8-f9a4-4b2e-9869-3b2ab9a30cd8",
   "metadata": {},
   "outputs": [],
   "source": [
    "def book_ride():\n",
    "    \n",
    "    name = name_entry.get()\n",
    "    phone = phone_entry.get()\n",
    "    pickup = pickup_entry.get()\n",
    "    destination = destination_entry.get()\n",
    "    vehicle_type = vehicle_var.get()\n",
    "\n",
    "    \n",
    "    if not name or not phone or not pickup or not destination or not vehicle_type:\n",
    "        messagebox.showwarning(\"Input Error\", \"Please fill in all fields!\")\n",
    "    else:\n",
    "        \n",
    "        messagebox.showinfo(\"Booking Confirmed\", f\"Booking Details:\\n\\nName: {name}\\nPhone: {phone}\\nPick-Up: {pickup}\\nDestination: {destination}\\nVehicle Type: {vehicle_type}\")\n",
    "       \n",
    "        name_entry.delete(0, tk.END)\n",
    "        phone_entry.delete(0, tk.END)\n",
    "        pickup_entry.delete(0, tk.END)\n",
    "        destination_entry.delete(0, tk.END)\n",
    "        vehicle_var.set(None)"
   ]
  },
  {
   "cell_type": "code",
   "execution_count": 5,
   "id": "4e81fb47-2f76-4684-bf45-66f8ee164339",
   "metadata": {},
   "outputs": [],
   "source": [
    "root = tk.Tk()\n",
    "root.title(\"Cab/Auto Booking App\")\n",
    "root.geometry(\"500x600\")\n",
    "root.configure(bg=\"#f0f8ff\")\n",
    "\n",
    "\n",
    "title_label = tk.Label(root, text=\"Cab/Auto Booking\", font=(\"Arial\", 18, \"bold\"), bg=\"#f0f8ff\")\n",
    "title_label.pack(pady=20)\n",
    "\n",
    "\n",
    "name_label = tk.Label(root, text=\"Full Name:\", font=(\"Arial\", 12), bg=\"#f0f8ff\")\n",
    "name_label.pack(anchor=\"w\", padx=20)\n",
    "name_entry = tk.Entry(root, font=(\"Arial\", 12), width=30)\n",
    "name_entry.pack(pady=5, padx=20)\n",
    "\n",
    "\n",
    "phone_label = tk.Label(root, text=\"Phone Number:\", font=(\"Arial\", 12), bg=\"#f0f8ff\")\n",
    "phone_label.pack(anchor=\"w\", padx=20)\n",
    "phone_entry = tk.Entry(root, font=(\"Arial\", 12), width=30)\n",
    "phone_entry.pack(pady=5, padx=20)\n",
    "\n",
    "pickup_label = tk.Label(root, text=\"Pick-Up Location:\", font=(\"Arial\", 12), bg=\"#f0f8ff\")\n",
    "pickup_label.pack(anchor=\"w\", padx=20)\n",
    "pickup_entry = tk.Entry(root, font=(\"Arial\", 12), width=30)\n",
    "pickup_entry.pack(pady=5, padx=20)\n",
    "\n",
    "destination_label = tk.Label(root, text=\"Destination:\", font=(\"Arial\", 12), bg=\"#f0f8ff\")\n",
    "destination_label.pack(anchor=\"w\", padx=20)\n",
    "destination_entry = tk.Entry(root, font=(\"Arial\", 12), width=30)\n",
    "destination_entry.pack(pady=5, padx=20)\n",
    "\n",
    "vehicle_label = tk.Label(root, text=\"Select Vehicle Type:\", font=(\"Arial\", 12), bg=\"#f0f8ff\")\n",
    "vehicle_label.pack(anchor=\"w\", padx=20, pady=10)\n",
    "\n",
    "vehicle_var = tk.StringVar()\n",
    "\n",
    "car_rb = tk.Radiobutton(root, text=\"Car\", variable=vehicle_var, value=\"Car\", font=(\"Arial\", 12), bg=\"#f0f8ff\")\n",
    "auto_rb = tk.Radiobutton(root, text=\"Auto\", variable=vehicle_var, value=\"Auto\", font=(\"Arial\", 12), bg=\"#f0f8ff\")\n",
    "\n",
    "car_rb.pack(anchor=\"w\", padx=20)\n",
    "auto_rb.pack(anchor=\"w\", padx=20)\n",
    "\n",
    "submit_button = tk.Button(root, text=\"Book Ride\", font=(\"Arial\", 14), bg=\"#4CAF50\", fg=\"white\", command=book_ride)\n",
    "submit_button.pack(pady=20)\n",
    "\n",
    "root.mainloop()"
   ]
  },
  {
   "cell_type": "code",
   "execution_count": null,
   "id": "59e9d6f6-a77d-4f67-91d6-124cc6b06811",
   "metadata": {},
   "outputs": [],
   "source": []
  }
 ],
 "metadata": {
  "kernelspec": {
   "display_name": "Python 3 (ipykernel)",
   "language": "python",
   "name": "python3"
  },
  "language_info": {
   "codemirror_mode": {
    "name": "ipython",
    "version": 3
   },
   "file_extension": ".py",
   "mimetype": "text/x-python",
   "name": "python",
   "nbconvert_exporter": "python",
   "pygments_lexer": "ipython3",
   "version": "3.12.7"
  }
 },
 "nbformat": 4,
 "nbformat_minor": 5
}
