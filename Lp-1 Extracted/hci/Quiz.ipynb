{
 "cells": [
  {
   "cell_type": "code",
   "execution_count": 39,
   "id": "46e8e89b-5efe-41ba-87f6-ea1dd29f2037",
   "metadata": {},
   "outputs": [],
   "source": [
    "import tkinter as tk\n",
    "from tkinter import messagebox"
   ]
  },
  {
   "cell_type": "code",
   "execution_count": 41,
   "id": "21612147-acc6-4959-ad1e-50b034f36915",
   "metadata": {},
   "outputs": [],
   "source": [
    "questions = [\n",
    "    \"What is the capital of India?\",\n",
    "    \"Which planet is known as the Red Planet?\",\n",
    "    \"Which is the national bird of India?\",\n",
    "    \"What is the square root of 64?\",\n",
    "]\n",
    "options = [\n",
    "    [\"Mumbai\", \"Kolkalte\", \"New Delhi\", \"Bangalore\"],\n",
    "    [\"Earth\", \"Mars\", \"Jupiter\", \"Saturn\"],\n",
    "    [\"Peacock\", \"Crow\", \"Sparrow\", \"Parrot\"],\n",
    "    [\"6\", \"7\", \"8\", \"9\"],\n",
    "]\n",
    "answers = [\"New Delhi\", \"Mars\", \"Peacock\", \"8\"]"
   ]
  },
  {
   "cell_type": "code",
   "execution_count": 43,
   "id": "8d9cc8c1-ec1d-4723-9681-f526dec86aad",
   "metadata": {},
   "outputs": [],
   "source": [
    "current_question = 0\n",
    "score = 0"
   ]
  },
  {
   "cell_type": "code",
   "execution_count": 35,
   "id": "9b78c826-df97-4691-9852-0a5b4ba2ce84",
   "metadata": {},
   "outputs": [],
   "source": [
    "def submit_answer():\n",
    "    global score, current_question\n",
    "    \n",
    "    selected_option = option_var.get()\n",
    "    if selected_option == answers[current_question]:\n",
    "        score += 1\n",
    "        messagebox.showinfo(\"Correct!\", \"Your answer is correct!\")\n",
    "    else:\n",
    "        messagebox.showerror(\"Incorrect\", f\"The correct answer was: {answers[current_question]}\")\n",
    "    \n",
    "    \n",
    "    next_button.config(state=tk.NORMAL)"
   ]
  },
  {
   "cell_type": "code",
   "execution_count": 37,
   "id": "9925cdff-7715-44d7-88f2-fc517d321489",
   "metadata": {},
   "outputs": [],
   "source": [
    "def next_question():\n",
    "    global current_question\n",
    "\n",
    "    current_question += 1\n",
    "    if current_question >= len(questions):\n",
    "        messagebox.showinfo(\"Quiz Completed\", f\"Your score is {score}/{len(questions)}\")\n",
    "        root.destroy()  \n",
    "    else:\n",
    "        \n",
    "        question_label.config(text=questions[current_question])\n",
    "        for i in range(4):\n",
    "            option_buttons[i].config(text=options[current_question][i])\n",
    "        \n",
    "        \n",
    "        option_var.set(None)\n",
    "        next_button.config(state=tk.DISABLED)"
   ]
  },
  {
   "cell_type": "code",
   "execution_count": 27,
   "id": "6988c8f1-895d-4f42-9e88-eeb752107d29",
   "metadata": {},
   "outputs": [
    {
     "name": "stderr",
     "output_type": "stream",
     "text": [
      "Exception in Tkinter callback\n",
      "Traceback (most recent call last):\n",
      "  File \"C:\\Users\\nisha\\anaconda3\\Lib\\tkinter\\__init__.py\", line 1968, in __call__\n",
      "    return self.func(*args)\n",
      "           ^^^^^^^^^^^^^^^^\n",
      "  File \"C:\\Users\\nisha\\AppData\\Local\\Temp\\ipykernel_13016\\3863386311.py\", line 9, in next_question\n",
      "    s\n",
      "NameError: name 's' is not defined\n"
     ]
    }
   ],
   "source": [
    "root = tk.Tk()\n",
    "root.title(\"Online Quiz\")\n",
    "root.geometry(\"500x400\")\n",
    "root.configure(bg=\"#f0f5f9\")\n",
    "\n",
    "\n",
    "title_label = tk.Label(root, text=\"Online Quiz\", font=(\"Arial\", 18, \"bold\"), bg=\"#f0f5f9\", fg=\"#333\")\n",
    "title_label.pack(pady=10)\n",
    "\n",
    "\n",
    "question_label = tk.Label(root, text=questions[current_question], font=(\"Arial\", 14), bg=\"#f0f5f9\", wraplength=400, justify=\"center\")\n",
    "question_label.pack(pady=20)\n",
    "\n",
    "\n",
    "option_var = tk.StringVar(value=None)\n",
    "\n",
    "\n",
    "option_buttons = []\n",
    "for i in range(4):\n",
    "    btn = tk.Checkbutton(root, text=options[current_question][i], variable=option_var, onvalue=options[current_question][i], offvalue=\"\", font=(\"Arial\", 12), bg=\"#f0f5f9\", anchor=\"w\")\n",
    "    btn.pack(fill=\"x\", padx=50, pady=5)\n",
    "    option_buttons.append(btn)\n",
    "\n",
    "\n",
    "submit_button = tk.Button(root, text=\"Submit\", command=submit_answer, font=(\"Arial\", 12), bg=\"#4CAF50\", fg=\"white\", width=10)\n",
    "submit_button.pack(pady=10)\n",
    "\n",
    "\n",
    "next_button = tk.Button(root, text=\"Next\", command=next_question, font=(\"Arial\", 12), bg=\"#2196F3\", fg=\"white\", width=10, state=tk.DISABLED)\n",
    "next_button.pack(pady=10)\n",
    "\n",
    "\n",
    "root.mainloop()"
   ]
  },
  {
   "cell_type": "code",
   "execution_count": null,
   "id": "9d4a7120-54b8-49eb-9ba0-ae93102dd380",
   "metadata": {},
   "outputs": [],
   "source": []
  }
 ],
 "metadata": {
  "kernelspec": {
   "display_name": "Python 3 (ipykernel)",
   "language": "python",
   "name": "python3"
  },
  "language_info": {
   "codemirror_mode": {
    "name": "ipython",
    "version": 3
   },
   "file_extension": ".py",
   "mimetype": "text/x-python",
   "name": "python",
   "nbconvert_exporter": "python",
   "pygments_lexer": "ipython3",
   "version": "3.12.7"
  }
 },
 "nbformat": 4,
 "nbformat_minor": 5
}
