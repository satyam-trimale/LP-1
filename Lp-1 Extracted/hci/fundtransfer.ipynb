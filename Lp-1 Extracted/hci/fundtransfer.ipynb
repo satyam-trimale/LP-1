{
 "cells": [
  {
   "cell_type": "code",
   "execution_count": 3,
   "id": "e787efe9-3231-4960-a1ef-785b159d1fe9",
   "metadata": {},
   "outputs": [],
   "source": [
    "import tkinter as tk\n",
    "from tkinter import messagebox"
   ]
  },
  {
   "cell_type": "code",
   "execution_count": 5,
   "id": "e0b377e1-561e-4c37-a495-82cd7c317dad",
   "metadata": {},
   "outputs": [],
   "source": [
    "def submit_transaction():\n",
    "    sender_acc = sender_account_entry.get()\n",
    "    receipent_acc = recipient_account_entry.get()\n",
    "    amount = amount_entry.get()\n",
    "    description = description_entry.get(\"1.0\", tk.END).strip()\n",
    "    if not sender_acc or not receipent_acc or not amount:\n",
    "        messagebox.showwarning(\"Input Error \",\"Please fill in all required documnet\")\n",
    "        return \n",
    "    messagebox.showinfo(\"Transcation Successful\",\"The transaction has been processed successfully\")\n",
    "    sender_account_entry.delete(0,tk.END)\n",
    "    receipent_account_entry.delete(0,tk.END)\n",
    "    amount_entry.delete(0,tk.END)\n",
    "    description_entry.delete(\"1.0\",tk.END)\n"
   ]
  },
  {
   "cell_type": "code",
   "execution_count": 7,
   "id": "a777a9f1-a9bc-4119-8e52-9ff987eaf59d",
   "metadata": {},
   "outputs": [],
   "source": [
    "def cancel_transaction():\n",
    "    sender_account_entry.delete(0, tk.END)\n",
    "    recipient_account_entry.delete(0, tk.END)\n",
    "    amount_entry.delete(0, tk.END)\n",
    "    description_entry.delete(\"1.0\", tk.END)\n",
    "    messagebox.showinfo(\"Transaction Canceled\", \"The transaction has been canceled.\")"
   ]
  },
  {
   "cell_type": "code",
   "execution_count": 9,
   "id": "67a0fe82-1d89-425d-bfda-670db5f6821e",
   "metadata": {},
   "outputs": [
    {
     "data": {
      "text/plain": [
       "''"
      ]
     },
     "execution_count": 9,
     "metadata": {},
     "output_type": "execute_result"
    }
   ],
   "source": [
    "root = tk.Tk()\n",
    "root.title(\"Fund Transfer\")\n",
    "root.geometry(\"400x400\")\n",
    "root.resizable(False, False)"
   ]
  },
  {
   "cell_type": "code",
   "execution_count": null,
   "id": "76cf4e0a-3dd3-471f-ac69-185c9bdf94ff",
   "metadata": {},
   "outputs": [],
   "source": [
    "tk.Label(root, text=\"Sender Account Number:\").grid(row=0, column=0, padx=10, pady=10, sticky=\"w\")\n",
    "sender_account_entry = tk.Entry(root, width=30)\n",
    "sender_account_entry.grid(row=0, column=1, padx=10, pady=10)\n",
    "tk.Label(root, text=\"Recipient Account Number:\").grid(row=1, column=0, padx=10, pady=10, sticky=\"w\")\n",
    "recipient_account_entry = tk.Entry(root, width=30)\n",
    "recipient_account_entry.grid(row=1, column=1, padx=10, pady=10)\n",
    "tk.Label(root, text=\"Amount:\").grid(row=2, column=0, padx=10, pady=10, sticky=\"w\")\n",
    "amount_entry = tk.Entry(root, width=30)\n",
    "amount_entry.grid(row=2, column=1, padx=10, pady=10)\n",
    "\n",
    "tk.Label(root, text=\"Description:\").grid(row=3, column=0, padx=10, pady=10, sticky=\"w\")\n",
    "description_entry = tk.Text(root, width=30, height=4)\n",
    "description_entry.grid(row=3, column=1, padx=10, pady=10)\n",
    "\n",
    "\n",
    "submit_button = tk.Button(root, text=\"Submit\", command=submit_transaction, bg=\"green\", fg=\"white\")\n",
    "submit_button.grid(row=4, column=0, padx=10, pady=20)\n",
    "\n",
    "cancel_button = tk.Button(root, text=\"Cancel\", command=cancel_transaction, bg=\"red\", fg=\"white\")\n",
    "cancel_button.grid(row=4, column=1, padx=10, pady=20)\n",
    "\n",
    "\n",
    "root.mainloop()\n"
   ]
  },
  {
   "cell_type": "code",
   "execution_count": null,
   "id": "55cf4230-bba2-4d89-b143-b9bebf09e8ee",
   "metadata": {},
   "outputs": [],
   "source": []
  }
 ],
 "metadata": {
  "kernelspec": {
   "display_name": "Python 3 (ipykernel)",
   "language": "python",
   "name": "python3"
  },
  "language_info": {
   "codemirror_mode": {
    "name": "ipython",
    "version": 3
   },
   "file_extension": ".py",
   "mimetype": "text/x-python",
   "name": "python",
   "nbconvert_exporter": "python",
   "pygments_lexer": "ipython3",
   "version": "3.12.7"
  }
 },
 "nbformat": 4,
 "nbformat_minor": 5
}
