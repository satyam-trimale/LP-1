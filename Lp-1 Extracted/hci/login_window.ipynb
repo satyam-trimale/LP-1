{
 "cells": [
  {
   "cell_type": "code",
   "execution_count": 1,
   "id": "155d8712-4e3f-40e6-94c7-8fe801d1c0e5",
   "metadata": {},
   "outputs": [],
   "source": [
    "import tkinter as tk\n",
    "from tkinter import messagebox"
   ]
  },
  {
   "cell_type": "code",
   "execution_count": 5,
   "id": "27faf7a1-d5ad-4461-a9fc-f483d875f002",
   "metadata": {},
   "outputs": [],
   "source": [
    "def login():\n",
    "    username = username_entry.get()\n",
    "    password = password_entry.get()\n",
    "\n",
    "    \n",
    "    if not username or not password:\n",
    "        messagebox.showwarning(\"Login Failed\", \"Please enter both username and password.\")\n",
    "    else:\n",
    "        \n",
    "        if username == \"admin\" and password == \"password\":  \n",
    "            messagebox.showinfo(\"Login Successful\", f\"Welcome, {username}!\")\n",
    "        else:\n",
    "            messagebox.showerror(\"Login Failed\", \"Incorrect username or password.\")"
   ]
  },
  {
   "cell_type": "code",
   "execution_count": 7,
   "id": "8413c338-70c5-4ea3-b424-28edfc0a7a9c",
   "metadata": {},
   "outputs": [],
   "source": [
    "def cancel():\n",
    "    username_entry.delete(0, tk.END)\n",
    "    password_entry.delete(0, tk.END)"
   ]
  },
  {
   "cell_type": "code",
   "execution_count": 9,
   "id": "85270ff5-23a6-4e9c-87de-bc4f6b66cace",
   "metadata": {},
   "outputs": [],
   "source": [
    "root = tk.Tk()\n",
    "root.title(\"Login Window\")\n",
    "root.geometry(\"400x250\")\n",
    "root.configure(bg=\"#f0f5f9\")\n",
    "root.resizable(False, False)\n",
    "\n",
    "\n",
    "title_label = tk.Label(root, text=\"Login\", font=(\"Arial\", 18, \"bold\"), bg=\"#f0f5f9\", fg=\"#333\")\n",
    "title_label.pack(pady=20)\n",
    "\n",
    "\n",
    "tk.Label(root, text=\"Username:\", font=(\"Arial\", 12), bg=\"#f0f5f9\").place(x=50, y=80)\n",
    "username_entry = tk.Entry(root, width=30, font=(\"Arial\", 10))\n",
    "username_entry.place(x=150, y=80)\n",
    "\n",
    "\n",
    "tk.Label(root, text=\"Password:\", font=(\"Arial\", 12), bg=\"#f0f5f9\").place(x=50, y=120)\n",
    "password_entry = tk.Entry(root, width=30, font=(\"Arial\", 10), show=\"*\")\n",
    "password_entry.place(x=150, y=120)\n",
    "\n",
    "\n",
    "login_button = tk.Button(root, text=\"Login\", command=login, font=(\"Arial\", 12), bg=\"#4CAF50\", fg=\"white\", width=10)\n",
    "login_button.place(x=100, y=170)\n",
    "\n",
    "\n",
    "cancel_button = tk.Button(root, text=\"Cancel\", command=cancel, font=(\"Arial\", 12), bg=\"#f44336\", fg=\"white\", width=10)\n",
    "cancel_button.place(x=220, y=170)\n",
    "\n",
    "\n",
    "root.mainloop()"
   ]
  },
  {
   "cell_type": "code",
   "execution_count": null,
   "id": "a5695798-3225-41be-8914-4c07727e7726",
   "metadata": {},
   "outputs": [],
   "source": []
  }
 ],
 "metadata": {
  "kernelspec": {
   "display_name": "Python 3 (ipykernel)",
   "language": "python",
   "name": "python3"
  },
  "language_info": {
   "codemirror_mode": {
    "name": "ipython",
    "version": 3
   },
   "file_extension": ".py",
   "mimetype": "text/x-python",
   "name": "python",
   "nbconvert_exporter": "python",
   "pygments_lexer": "ipython3",
   "version": "3.12.7"
  }
 },
 "nbformat": 4,
 "nbformat_minor": 5
}
