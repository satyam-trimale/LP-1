{
 "cells": [
  {
   "cell_type": "code",
   "execution_count": 1,
   "id": "96e84790-f791-492a-aff7-db9e48e19411",
   "metadata": {},
   "outputs": [],
   "source": [
    "import tkinter as tk\n",
    "from tkinter import messagebox\n"
   ]
  },
  {
   "cell_type": "code",
   "execution_count": 3,
   "id": "0849ede5-0d4f-4297-b826-ae881d343625",
   "metadata": {},
   "outputs": [],
   "source": [
    "def submit_form():\n",
    "    first_name = first_name_entry.get()\n",
    "    last_name = last_name_entry.get()\n",
    "    email = email_entry.get()\n",
    "    gender = gender_var.get()\n",
    "    country = country_listbox.get(tk.ACTIVE)\n",
    "    agree = agree_var.get()\n",
    "    if not first_name or not last_name or not email or not country or gender ==\"\":\n",
    "        messagebox.showwarning(\"Input Erro \",\"Please fill in all required field\")\n",
    "        return\n",
    "    if not agree:\n",
    "        messagebox.showwarning(\"Agreement Error \",\"Please agree to condition\")\n",
    "        return \n",
    "    messagebox.showinfo(\"Registration Successful\", \"Thank you for registering!\")\n",
    "    \n",
    "    \n",
    "    first_name_entry.delete(0, tk.END)\n",
    "    last_name_entry.delete(0, tk.END)\n",
    "    email_entry.delete(0, tk.END)\n",
    "    gender_var.set(\"\")\n",
    "    country_listbox.selection_clear(0, tk.END)\n",
    "    agree_var.set(0)"
   ]
  },
  {
   "cell_type": "code",
   "execution_count": null,
   "id": "bee20ded-5bc4-4ad7-9ca8-937b01b9c6c4",
   "metadata": {},
   "outputs": [],
   "source": [
    "\n",
    "root = tk.Tk()\n",
    "root.title(\"Student Registration Form\")\n",
    "root.geometry(\"500x500\")\n",
    "root.configure(bg=\"#f0f5f9\")\n",
    "\n",
    "\n",
    "title_label = tk.Label(root, text=\"Student Registration Form\", font=(\"Arial\", 18, \"bold\"), bg=\"#f0f5f9\", fg=\"#333\")\n",
    "title_label.pack(pady=10)\n",
    "\n",
    "\n",
    "tk.Label(root, text=\"First Name:\", font=(\"Arial\", 12), bg=\"#f0f5f9\").place(x=50, y=60)\n",
    "first_name_entry = tk.Entry(root, width=30, font=(\"Arial\", 10))\n",
    "first_name_entry.place(x=200, y=60)\n",
    "\n",
    "\n",
    "tk.Label(root, text=\"Last Name:\", font=(\"Arial\", 12), bg=\"#f0f5f9\").place(x=50, y=100)\n",
    "last_name_entry = tk.Entry(root, width=30, font=(\"Arial\", 10))\n",
    "last_name_entry.place(x=200, y=100)\n",
    "\n",
    "\n",
    "tk.Label(root, text=\"Email:\", font=(\"Arial\", 12), bg=\"#f0f5f9\").place(x=50, y=140)\n",
    "email_entry = tk.Entry(root, width=30, font=(\"Arial\", 10))\n",
    "email_entry.place(x=200, y=140)\n",
    "\n",
    "\n",
    "gender_var = tk.StringVar()\n",
    "tk.Label(root, text=\"Gender:\", font=(\"Arial\", 12), bg=\"#f0f5f9\").place(x=50, y=180)\n",
    "tk.Radiobutton(root, text=\"Male\", variable=gender_var, value=\"Male\", bg=\"#f0f5f9\").place(x=200, y=180)\n",
    "tk.Radiobutton(root, text=\"Female\", variable=gender_var, value=\"Female\", bg=\"#f0f5f9\").place(x=260, y=180)\n",
    "tk.Radiobutton(root, text=\"Other\", variable=gender_var, value=\"Other\", bg=\"#f0f5f9\").place(x=330, y=180)\n",
    "\n",
    "\n",
    "tk.Label(root, text=\"Country:\", font=(\"Arial\", 12), bg=\"#f0f5f9\").place(x=50, y=220)\n",
    "country_listbox = tk.Listbox(root, height=5, width=25, font=(\"Arial\", 10), exportselection=False)\n",
    "countries = [\"United States\", \"Canada\", \"India\", \"United Kingdom\", \"Australia\", \"Germany\", \"France\"]\n",
    "for country in countries:\n",
    "    country_listbox.insert(tk.END, country)\n",
    "country_listbox.place(x=200, y=220)\n",
    "\n",
    "\n",
    "agree_var = tk.IntVar()\n",
    "agree_checkbutton = tk.Checkbutton(root, text=\"I agree to the terms and conditions\", variable=agree_var, bg=\"#f0f5f9\")\n",
    "agree_checkbutton.place(x=50, y=340)\n",
    "\n",
    "\n",
    "submit_button = tk.Button(root, text=\"Submit\", command=submit_form, font=(\"Arial\", 12), bg=\"#4CAF50\", fg=\"white\", width=12)\n",
    "submit_button.place(x=180, y=380)\n",
    "\n",
    "\n",
    "root.mainloop()"
   ]
  }
 ],
 "metadata": {
  "kernelspec": {
   "display_name": "Python 3 (ipykernel)",
   "language": "python",
   "name": "python3"
  },
  "language_info": {
   "codemirror_mode": {
    "name": "ipython",
    "version": 3
   },
   "file_extension": ".py",
   "mimetype": "text/x-python",
   "name": "python",
   "nbconvert_exporter": "python",
   "pygments_lexer": "ipython3",
   "version": "3.12.7"
  }
 },
 "nbformat": 4,
 "nbformat_minor": 5
}
